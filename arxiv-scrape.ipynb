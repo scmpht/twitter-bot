{
 "cells": [
  {
   "cell_type": "code",
   "execution_count": 58,
   "metadata": {},
   "outputs": [],
   "source": [
    "import pandas as pd\n",
    "import requests"
   ]
  },
  {
   "cell_type": "code",
   "execution_count": 55,
   "metadata": {},
   "outputs": [],
   "source": [
    "def search_bioarxiv(server, start_date, end_date, cursor=0):\n",
    "    \n",
    "    interval = f\"{start_date}/{end_date}\"\n",
    "    \n",
    "    response = requests.get(f\"https://api.biorxiv.org/details/{server}/{interval}/{cursor}/json\")\n",
    "    if response.status_code == 200:\n",
    "        \n",
    "        result = response.json()\n",
    "        papers = result['collection']\n",
    "\n",
    "        if result['messages'][0]['count'] == 100:\n",
    "            cursor += 100\n",
    "            papers = papers + search_bioarxiv(server, start_date, end_date, cursor=cursor)\n",
    "        \n",
    "        return papers\n",
    "    \n",
    "    \n",
    "    else:\n",
    "        print(f\"Error: {response.status_code}\")\n",
    "        return None\n",
    "    \n",
    "    \n",
    "\n",
    "# Example usage:\n",
    "start_date = '2024-02-27'\n",
    "end_date = '2024-02-27'\n",
    "papers = pd.DataFrame(search_bioarxiv('biorxiv', start_date, end_date))\n"
   ]
  },
  {
   "cell_type": "code",
   "execution_count": 113,
   "metadata": {},
   "outputs": [
    {
     "data": {
      "text/plain": [
       "0      Pathological stressors disrupt cellular homeos...\n",
       "1      Flaviviruses, including Zika virus (ZIKV), are...\n",
       "2      The gastrointestinal (GI) tract is extensively...\n",
       "3      Topologically associated domains (TADs) are in...\n",
       "4      Natural selection is believed to universally w...\n",
       "                             ...                        \n",
       "159    Prediction of RNA structure from sequence rema...\n",
       "160    Glioma is a type of tumor that begins in glial...\n",
       "161    Meningiomas, the most common intracranial tumo...\n",
       "162    Voltage-gated K+ (KV) channels govern K+-ion f...\n",
       "163    Approximately 15% of the global human populati...\n",
       "Name: abstract, Length: 164, dtype: object"
      ]
     },
     "execution_count": 113,
     "metadata": {},
     "output_type": "execute_result"
    }
   ],
   "source": [
    "papers['abstract']"
   ]
  },
  {
   "cell_type": "code",
   "execution_count": 118,
   "metadata": {},
   "outputs": [
    {
     "data": {
      "text/html": [
       "<div>\n",
       "<style scoped>\n",
       "    .dataframe tbody tr th:only-of-type {\n",
       "        vertical-align: middle;\n",
       "    }\n",
       "\n",
       "    .dataframe tbody tr th {\n",
       "        vertical-align: top;\n",
       "    }\n",
       "\n",
       "    .dataframe thead th {\n",
       "        text-align: right;\n",
       "    }\n",
       "</style>\n",
       "<table border=\"1\" class=\"dataframe\">\n",
       "  <thead>\n",
       "    <tr style=\"text-align: right;\">\n",
       "      <th></th>\n",
       "      <th>doi</th>\n",
       "      <th>title</th>\n",
       "      <th>authors</th>\n",
       "      <th>author_corresponding</th>\n",
       "      <th>author_corresponding_institution</th>\n",
       "      <th>date</th>\n",
       "      <th>version</th>\n",
       "      <th>type</th>\n",
       "      <th>license</th>\n",
       "      <th>category</th>\n",
       "      <th>jatsxml</th>\n",
       "      <th>abstract</th>\n",
       "      <th>published</th>\n",
       "      <th>server</th>\n",
       "    </tr>\n",
       "  </thead>\n",
       "  <tbody>\n",
       "    <tr>\n",
       "      <th>8</th>\n",
       "      <td>10.1101/2022.09.06.506754</td>\n",
       "      <td>Flexible communication between cell assemblies...</td>\n",
       "      <td>Pompili, M. N.; Todorova, R.; Boucly, C. J.; L...</td>\n",
       "      <td>Marco N Pompili</td>\n",
       "      <td>Centre Interdisciplinaire de Recherche en Biol...</td>\n",
       "      <td>2024-02-27</td>\n",
       "      <td>3</td>\n",
       "      <td>new results</td>\n",
       "      <td>cc_by_nc_nd</td>\n",
       "      <td>neuroscience</td>\n",
       "      <td>https://www.biorxiv.org/content/early/2024/02/...</td>\n",
       "      <td>Cell assemblies are considered fundamental uni...</td>\n",
       "      <td>NA</td>\n",
       "      <td>biorxiv</td>\n",
       "    </tr>\n",
       "  </tbody>\n",
       "</table>\n",
       "</div>"
      ],
      "text/plain": [
       "                         doi  \\\n",
       "8  10.1101/2022.09.06.506754   \n",
       "\n",
       "                                               title  \\\n",
       "8  Flexible communication between cell assemblies...   \n",
       "\n",
       "                                             authors author_corresponding  \\\n",
       "8  Pompili, M. N.; Todorova, R.; Boucly, C. J.; L...      Marco N Pompili   \n",
       "\n",
       "                    author_corresponding_institution        date version  \\\n",
       "8  Centre Interdisciplinaire de Recherche en Biol...  2024-02-27       3   \n",
       "\n",
       "          type      license      category  \\\n",
       "8  new results  cc_by_nc_nd  neuroscience   \n",
       "\n",
       "                                             jatsxml  \\\n",
       "8  https://www.biorxiv.org/content/early/2024/02/...   \n",
       "\n",
       "                                            abstract published   server  \n",
       "8  Cell assemblies are considered fundamental uni...        NA  biorxiv  "
      ]
     },
     "execution_count": 118,
     "metadata": {},
     "output_type": "execute_result"
    }
   ],
   "source": [
    "papers[papers['abstract'].apply(lambda x: all(term in x.lower() for term in search_terms))]"
   ]
  }
 ],
 "metadata": {
  "kernelspec": {
   "display_name": "twitter-bot",
   "language": "python",
   "name": "python3"
  },
  "language_info": {
   "codemirror_mode": {
    "name": "ipython",
    "version": 3
   },
   "file_extension": ".py",
   "mimetype": "text/x-python",
   "name": "python",
   "nbconvert_exporter": "python",
   "pygments_lexer": "ipython3",
   "version": "3.12.2"
  }
 },
 "nbformat": 4,
 "nbformat_minor": 2
}
